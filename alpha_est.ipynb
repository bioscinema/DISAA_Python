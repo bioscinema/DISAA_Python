{
 "cells": [
  {
   "cell_type": "code",
   "execution_count": 1,
   "metadata": {},
   "outputs": [],
   "source": [
    "import numpy as np\n",
    "from statsmodels.discrete.discrete_model import NegativeBinomial\n",
    "from statsmodels.discrete.count_model import ZeroInflatedNegativeBinomialP\n",
    "from statsmodels.discrete.truncated_model import TruncatedLFNegativeBinomialP\n",
    "\n",
    "def fit_mle_dispersions(_counts: np.ndarray,\n",
    "                        _truncated: bool\n",
    ") -> np.ndarray:\n",
    "    \n",
    "    def _alpha_fit_func(_c, _t):\n",
    "    \n",
    "        _c_p = _c[_c > 0]\n",
    "        if _t:\n",
    "            _nb = TruncatedLFNegativeBinomialP(_c_p, np.ones(len(_c_p))).fit(disp=False, maxiter=1000, methid='ncg')\n",
    "        else:\n",
    "            _nb = NegativeBinomial(_c_p, np.ones(len(_c_p))).fit(disp=False)\n",
    "\n",
    "        return _nb.params[1]\n",
    "    \n",
    "    \n",
    "    _disp = [_alpha_fit_func(_cnt, _truncated) for _cnt in _counts.T]\n",
    "    \n",
    "            \n",
    "    return np.array(_disp)\n",
    "\n",
    "\n",
    "def fit_zmle_dispersions(_counts: np.ndarray,) -> np.ndarray:\n",
    "    \n",
    "    def _alpha_fit_func(_c):\n",
    "    \n",
    "        _nb = ZeroInflatedNegativeBinomialP(_c, np.ones(len(_c),)).fit(disp=False, method='lbfgs', maxiter=100)\n",
    "\n",
    "        return _nb.params[-1]\n",
    "    \n",
    "    \n",
    "    _disp = [_alpha_fit_func(_cnt) for _cnt in _counts.T]\n",
    "    \n",
    "            \n",
    "    return np.array(_disp)\n",
    "    "
   ]
  },
  {
   "cell_type": "code",
   "execution_count": null,
   "metadata": {},
   "outputs": [],
   "source": [
    "n_gene, n_sample = 200, 100\n",
    "cnts = np.random.randn(n_sample, n_gene)\n",
    "alpha_mle_t = fit_mle_dispersions(cnts, _truncated=True)\n",
    "alpha_mle = fit_mle_dispersions(cnts, _truncated=False)\n",
    "alpha_zmle = fit_zmle_dispersions(cnts)"
   ]
  },
  {
   "cell_type": "code",
   "execution_count": 4,
   "metadata": {},
   "outputs": [
    {
     "name": "stdout",
     "output_type": "stream",
     "text": [
      "MAE mle:  10.0\n",
      "MAE mle nb-truncated:  692.92\n",
      "MAE mle zinb:  37775.24\n"
     ]
    }
   ],
   "source": [
    "mae = lambda x, gt_x: np.abs(x - gt_x).mean().round(2)\n",
    "gt_alpha = 10\n",
    "print('MAE mle: ', mae(alpha_mle, gt_alpha))\n",
    "print('MAE mle nb-truncated: ', mae(alpha_mle_t, gt_alpha))\n",
    "print('MAE mle zinb: ', mae(alpha_zmle, gt_alpha))"
   ]
  }
 ],
 "metadata": {
  "kernelspec": {
   "display_name": "zinb",
   "language": "python",
   "name": "python3"
  },
  "language_info": {
   "codemirror_mode": {
    "name": "ipython",
    "version": 3
   },
   "file_extension": ".py",
   "mimetype": "text/x-python",
   "name": "python",
   "nbconvert_exporter": "python",
   "pygments_lexer": "ipython3",
   "version": "3.12.0"
  }
 },
 "nbformat": 4,
 "nbformat_minor": 2
}
